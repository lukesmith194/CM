{
 "cells": [
  {
   "cell_type": "markdown",
   "id": "hawaiian-madonna",
   "metadata": {
    "toc": true
   },
   "source": [
    "<h1>Table of Contents<span class=\"tocSkip\"></span></h1>\n",
    "<div class=\"toc\"><ul class=\"toc-item\"><li><span><a href=\"#Descarga-un-dataset-de-kaggle\" data-toc-modified-id=\"Descarga-un-dataset-de-kaggle-1\"><span class=\"toc-item-num\">1&nbsp;&nbsp;</span>Descarga un dataset de kaggle</a></span></li><li><span><a href=\"#Impórtalo-y-haz-un-dataframe\" data-toc-modified-id=\"Impórtalo-y-haz-un-dataframe-2\"><span class=\"toc-item-num\">2&nbsp;&nbsp;</span>Impórtalo y haz un dataframe</a></span></li><li><span><a href=\"#Haz-una-exploración-de-los-datos\" data-toc-modified-id=\"Haz-una-exploración-de-los-datos-3\"><span class=\"toc-item-num\">3&nbsp;&nbsp;</span>Haz una exploración de los datos</a></span></li><li><span><a href=\"#¿Tiene-nulos?-¿Cuántos?-¿En-qué-columnas?-Haz-algo-con-ellos-🙃\" data-toc-modified-id=\"¿Tiene-nulos?-¿Cuántos?-¿En-qué-columnas?-Haz-algo-con-ellos-🙃-4\"><span class=\"toc-item-num\">4&nbsp;&nbsp;</span>¿Tiene nulos? ¿Cuántos? ¿En qué columnas? Haz algo con ellos 🙃</a></span></li><li><span><a href=\"#Borra-algunas-filas\" data-toc-modified-id=\"Borra-algunas-filas-5\"><span class=\"toc-item-num\">5&nbsp;&nbsp;</span>Borra algunas filas</a></span></li><li><span><a href=\"#Borra-algunas-columnas\" data-toc-modified-id=\"Borra-algunas-columnas-6\"><span class=\"toc-item-num\">6&nbsp;&nbsp;</span>Borra algunas columnas</a></span></li><li><span><a href=\"#Escribe-una-función-y-aplícala-a-alguna-de-las-columnas\" data-toc-modified-id=\"Escribe-una-función-y-aplícala-a-alguna-de-las-columnas-7\"><span class=\"toc-item-num\">7&nbsp;&nbsp;</span>Escribe una función y aplícala a alguna de las columnas</a></span></li><li><span><a href=\"#Muestra-los-valores-únicos-de-algunas-columnas\" data-toc-modified-id=\"Muestra-los-valores-únicos-de-algunas-columnas-8\"><span class=\"toc-item-num\">8&nbsp;&nbsp;</span>Muestra los valores únicos de algunas columnas</a></span></li><li><span><a href=\"#Filtra-los-datos-por-algunos-de-los-valores-que-hay-dentro-de-alguna-columna\" data-toc-modified-id=\"Filtra-los-datos-por-algunos-de-los-valores-que-hay-dentro-de-alguna-columna-9\"><span class=\"toc-item-num\">9&nbsp;&nbsp;</span>Filtra los datos por algunos de los valores que hay dentro de alguna columna</a></span></li><li><span><a href=\"#Repite-el-paso-anterior-con-condicionales\" data-toc-modified-id=\"Repite-el-paso-anterior-con-condicionales-10\"><span class=\"toc-item-num\">10&nbsp;&nbsp;</span>Repite el paso anterior con condicionales</a></span></li><li><span><a href=\"#Elige-una-columna-y-ponla-como-index\" data-toc-modified-id=\"Elige-una-columna-y-ponla-como-index-11\"><span class=\"toc-item-num\">11&nbsp;&nbsp;</span>Elige una columna y ponla como index</a></span></li><li><span><a href=\"#Resetea-el-index\" data-toc-modified-id=\"Resetea-el-index-12\"><span class=\"toc-item-num\">12&nbsp;&nbsp;</span>Resetea el index</a></span></li><li><span><a href=\"#Divídelo-en-dos-partes-aleatorias-y-vuélvelo-a-juntar-¿te-atreves-con-filas-o-columnas?-¡¡prueba!!\" data-toc-modified-id=\"Divídelo-en-dos-partes-aleatorias-y-vuélvelo-a-juntar-¿te-atreves-con-filas-o-columnas?-¡¡prueba!!-13\"><span class=\"toc-item-num\">13&nbsp;&nbsp;</span>Divídelo en dos partes aleatorias y vuélvelo a juntar ¿te atreves con filas o columnas? ¡¡prueba!!</a></span></li></ul></div>"
   ]
  },
  {
   "cell_type": "markdown",
   "id": "illegal-truck",
   "metadata": {},
   "source": [
    "# Never say no to panda"
   ]
  },
  {
   "cell_type": "markdown",
   "id": "beginning-direction",
   "metadata": {},
   "source": [
    "![saynotopanda](https://media.giphy.com/media/ToMjGpIYtgvMP38WTFC/giphy.gif)"
   ]
  },
  {
   "cell_type": "markdown",
   "id": "adjustable-carroll",
   "metadata": {},
   "source": [
    "## Descarga un dataset de kaggle"
   ]
  },
  {
   "cell_type": "code",
   "execution_count": 1,
   "id": "worse-converter",
   "metadata": {},
   "outputs": [],
   "source": [
    "import pandas as pd"
   ]
  },
  {
   "cell_type": "markdown",
   "id": "substantial-softball",
   "metadata": {},
   "source": [
    "## Impórtalo y haz un dataframe"
   ]
  },
  {
   "cell_type": "code",
   "execution_count": 2,
   "id": "fixed-gilbert",
   "metadata": {},
   "outputs": [],
   "source": [
    "\n",
    "\n",
    "df = pd.read_csv(\"../datasets/BNB-USD.csv\")"
   ]
  },
  {
   "cell_type": "markdown",
   "id": "modified-approach",
   "metadata": {},
   "source": [
    "## Haz una exploración de los datos"
   ]
  },
  {
   "cell_type": "code",
   "execution_count": 3,
   "id": "e51e4845",
   "metadata": {},
   "outputs": [
    {
     "data": {
      "text/html": [
       "<div>\n",
       "<style scoped>\n",
       "    .dataframe tbody tr th:only-of-type {\n",
       "        vertical-align: middle;\n",
       "    }\n",
       "\n",
       "    .dataframe tbody tr th {\n",
       "        vertical-align: top;\n",
       "    }\n",
       "\n",
       "    .dataframe thead th {\n",
       "        text-align: right;\n",
       "    }\n",
       "</style>\n",
       "<table border=\"1\" class=\"dataframe\">\n",
       "  <thead>\n",
       "    <tr style=\"text-align: right;\">\n",
       "      <th></th>\n",
       "      <th>Date</th>\n",
       "      <th>Open</th>\n",
       "      <th>High</th>\n",
       "      <th>Low</th>\n",
       "      <th>Close</th>\n",
       "      <th>Adj Close</th>\n",
       "      <th>Volume</th>\n",
       "    </tr>\n",
       "  </thead>\n",
       "  <tbody>\n",
       "    <tr>\n",
       "      <th>0</th>\n",
       "      <td>2017-07-25</td>\n",
       "      <td>0.115203</td>\n",
       "      <td>0.115841</td>\n",
       "      <td>0.101531</td>\n",
       "      <td>0.105870</td>\n",
       "      <td>0.105870</td>\n",
       "      <td>1.452690e+05</td>\n",
       "    </tr>\n",
       "    <tr>\n",
       "      <th>1</th>\n",
       "      <td>2017-07-26</td>\n",
       "      <td>0.105893</td>\n",
       "      <td>0.109013</td>\n",
       "      <td>0.099266</td>\n",
       "      <td>0.105138</td>\n",
       "      <td>0.105138</td>\n",
       "      <td>2.003950e+05</td>\n",
       "    </tr>\n",
       "    <tr>\n",
       "      <th>2</th>\n",
       "      <td>2017-07-27</td>\n",
       "      <td>0.105108</td>\n",
       "      <td>0.108479</td>\n",
       "      <td>0.100888</td>\n",
       "      <td>0.107737</td>\n",
       "      <td>0.107737</td>\n",
       "      <td>3.444990e+05</td>\n",
       "    </tr>\n",
       "    <tr>\n",
       "      <th>3</th>\n",
       "      <td>2017-07-28</td>\n",
       "      <td>0.107632</td>\n",
       "      <td>0.109019</td>\n",
       "      <td>0.101473</td>\n",
       "      <td>0.104067</td>\n",
       "      <td>0.104067</td>\n",
       "      <td>3.425680e+05</td>\n",
       "    </tr>\n",
       "    <tr>\n",
       "      <th>4</th>\n",
       "      <td>2017-07-29</td>\n",
       "      <td>0.104782</td>\n",
       "      <td>0.111264</td>\n",
       "      <td>0.101108</td>\n",
       "      <td>0.107811</td>\n",
       "      <td>0.107811</td>\n",
       "      <td>3.402180e+05</td>\n",
       "    </tr>\n",
       "    <tr>\n",
       "      <th>...</th>\n",
       "      <td>...</td>\n",
       "      <td>...</td>\n",
       "      <td>...</td>\n",
       "      <td>...</td>\n",
       "      <td>...</td>\n",
       "      <td>...</td>\n",
       "      <td>...</td>\n",
       "    </tr>\n",
       "    <tr>\n",
       "      <th>1480</th>\n",
       "      <td>2021-08-13</td>\n",
       "      <td>386.044067</td>\n",
       "      <td>411.170532</td>\n",
       "      <td>383.216766</td>\n",
       "      <td>410.944885</td>\n",
       "      <td>410.944885</td>\n",
       "      <td>1.724230e+09</td>\n",
       "    </tr>\n",
       "    <tr>\n",
       "      <th>1481</th>\n",
       "      <td>2021-08-14</td>\n",
       "      <td>410.783539</td>\n",
       "      <td>418.921265</td>\n",
       "      <td>400.752045</td>\n",
       "      <td>409.034485</td>\n",
       "      <td>409.034485</td>\n",
       "      <td>2.023364e+09</td>\n",
       "    </tr>\n",
       "    <tr>\n",
       "      <th>1482</th>\n",
       "      <td>2021-08-15</td>\n",
       "      <td>408.982208</td>\n",
       "      <td>414.931000</td>\n",
       "      <td>396.865204</td>\n",
       "      <td>414.595032</td>\n",
       "      <td>414.595032</td>\n",
       "      <td>1.826134e+09</td>\n",
       "    </tr>\n",
       "    <tr>\n",
       "      <th>1483</th>\n",
       "      <td>2021-08-16</td>\n",
       "      <td>414.357666</td>\n",
       "      <td>436.618408</td>\n",
       "      <td>411.123260</td>\n",
       "      <td>417.470856</td>\n",
       "      <td>417.470856</td>\n",
       "      <td>2.620571e+09</td>\n",
       "    </tr>\n",
       "    <tr>\n",
       "      <th>1484</th>\n",
       "      <td>2021-08-17</td>\n",
       "      <td>416.598572</td>\n",
       "      <td>429.128632</td>\n",
       "      <td>410.275574</td>\n",
       "      <td>422.220764</td>\n",
       "      <td>422.220764</td>\n",
       "      <td>2.716975e+09</td>\n",
       "    </tr>\n",
       "  </tbody>\n",
       "</table>\n",
       "<p>1485 rows × 7 columns</p>\n",
       "</div>"
      ],
      "text/plain": [
       "            Date        Open        High         Low       Close   Adj Close  \\\n",
       "0     2017-07-25    0.115203    0.115841    0.101531    0.105870    0.105870   \n",
       "1     2017-07-26    0.105893    0.109013    0.099266    0.105138    0.105138   \n",
       "2     2017-07-27    0.105108    0.108479    0.100888    0.107737    0.107737   \n",
       "3     2017-07-28    0.107632    0.109019    0.101473    0.104067    0.104067   \n",
       "4     2017-07-29    0.104782    0.111264    0.101108    0.107811    0.107811   \n",
       "...          ...         ...         ...         ...         ...         ...   \n",
       "1480  2021-08-13  386.044067  411.170532  383.216766  410.944885  410.944885   \n",
       "1481  2021-08-14  410.783539  418.921265  400.752045  409.034485  409.034485   \n",
       "1482  2021-08-15  408.982208  414.931000  396.865204  414.595032  414.595032   \n",
       "1483  2021-08-16  414.357666  436.618408  411.123260  417.470856  417.470856   \n",
       "1484  2021-08-17  416.598572  429.128632  410.275574  422.220764  422.220764   \n",
       "\n",
       "            Volume  \n",
       "0     1.452690e+05  \n",
       "1     2.003950e+05  \n",
       "2     3.444990e+05  \n",
       "3     3.425680e+05  \n",
       "4     3.402180e+05  \n",
       "...            ...  \n",
       "1480  1.724230e+09  \n",
       "1481  2.023364e+09  \n",
       "1482  1.826134e+09  \n",
       "1483  2.620571e+09  \n",
       "1484  2.716975e+09  \n",
       "\n",
       "[1485 rows x 7 columns]"
      ]
     },
     "execution_count": 3,
     "metadata": {},
     "output_type": "execute_result"
    }
   ],
   "source": [
    "df"
   ]
  },
  {
   "cell_type": "code",
   "execution_count": 4,
   "id": "assisted-possibility",
   "metadata": {},
   "outputs": [
    {
     "data": {
      "text/plain": [
       "10395"
      ]
     },
     "execution_count": 4,
     "metadata": {},
     "output_type": "execute_result"
    }
   ],
   "source": [
    "df.size"
   ]
  },
  {
   "cell_type": "code",
   "execution_count": 5,
   "id": "f4f75729",
   "metadata": {},
   "outputs": [
    {
     "data": {
      "text/plain": [
       "(1485, 7)"
      ]
     },
     "execution_count": 5,
     "metadata": {},
     "output_type": "execute_result"
    }
   ],
   "source": [
    "df.shape"
   ]
  },
  {
   "cell_type": "code",
   "execution_count": 6,
   "id": "0de89e48",
   "metadata": {},
   "outputs": [
    {
     "data": {
      "text/plain": [
       "<bound method DataFrame.info of             Date        Open        High         Low       Close   Adj Close  \\\n",
       "0     2017-07-25    0.115203    0.115841    0.101531    0.105870    0.105870   \n",
       "1     2017-07-26    0.105893    0.109013    0.099266    0.105138    0.105138   \n",
       "2     2017-07-27    0.105108    0.108479    0.100888    0.107737    0.107737   \n",
       "3     2017-07-28    0.107632    0.109019    0.101473    0.104067    0.104067   \n",
       "4     2017-07-29    0.104782    0.111264    0.101108    0.107811    0.107811   \n",
       "...          ...         ...         ...         ...         ...         ...   \n",
       "1480  2021-08-13  386.044067  411.170532  383.216766  410.944885  410.944885   \n",
       "1481  2021-08-14  410.783539  418.921265  400.752045  409.034485  409.034485   \n",
       "1482  2021-08-15  408.982208  414.931000  396.865204  414.595032  414.595032   \n",
       "1483  2021-08-16  414.357666  436.618408  411.123260  417.470856  417.470856   \n",
       "1484  2021-08-17  416.598572  429.128632  410.275574  422.220764  422.220764   \n",
       "\n",
       "            Volume  \n",
       "0     1.452690e+05  \n",
       "1     2.003950e+05  \n",
       "2     3.444990e+05  \n",
       "3     3.425680e+05  \n",
       "4     3.402180e+05  \n",
       "...            ...  \n",
       "1480  1.724230e+09  \n",
       "1481  2.023364e+09  \n",
       "1482  1.826134e+09  \n",
       "1483  2.620571e+09  \n",
       "1484  2.716975e+09  \n",
       "\n",
       "[1485 rows x 7 columns]>"
      ]
     },
     "execution_count": 6,
     "metadata": {},
     "output_type": "execute_result"
    }
   ],
   "source": [
    "df.info"
   ]
  },
  {
   "cell_type": "code",
   "execution_count": 7,
   "id": "afa0d075",
   "metadata": {},
   "outputs": [
    {
     "data": {
      "text/html": [
       "<div>\n",
       "<style scoped>\n",
       "    .dataframe tbody tr th:only-of-type {\n",
       "        vertical-align: middle;\n",
       "    }\n",
       "\n",
       "    .dataframe tbody tr th {\n",
       "        vertical-align: top;\n",
       "    }\n",
       "\n",
       "    .dataframe thead th {\n",
       "        text-align: right;\n",
       "    }\n",
       "</style>\n",
       "<table border=\"1\" class=\"dataframe\">\n",
       "  <thead>\n",
       "    <tr style=\"text-align: right;\">\n",
       "      <th></th>\n",
       "      <th>count</th>\n",
       "      <th>mean</th>\n",
       "      <th>std</th>\n",
       "      <th>min</th>\n",
       "      <th>25%</th>\n",
       "      <th>50%</th>\n",
       "      <th>75%</th>\n",
       "      <th>max</th>\n",
       "    </tr>\n",
       "  </thead>\n",
       "  <tbody>\n",
       "    <tr>\n",
       "      <th>Open</th>\n",
       "      <td>1481.0</td>\n",
       "      <td>5.995044e+01</td>\n",
       "      <td>1.228150e+02</td>\n",
       "      <td>0.099721</td>\n",
       "      <td>1.012630e+01</td>\n",
       "      <td>1.644724e+01</td>\n",
       "      <td>2.837728e+01</td>\n",
       "      <td>6.763159e+02</td>\n",
       "    </tr>\n",
       "    <tr>\n",
       "      <th>High</th>\n",
       "      <td>1481.0</td>\n",
       "      <td>6.292519e+01</td>\n",
       "      <td>1.293032e+02</td>\n",
       "      <td>0.101211</td>\n",
       "      <td>1.044790e+01</td>\n",
       "      <td>1.686238e+01</td>\n",
       "      <td>2.905650e+01</td>\n",
       "      <td>6.909319e+02</td>\n",
       "    </tr>\n",
       "    <tr>\n",
       "      <th>Low</th>\n",
       "      <td>1481.0</td>\n",
       "      <td>5.692217e+01</td>\n",
       "      <td>1.160446e+02</td>\n",
       "      <td>0.096109</td>\n",
       "      <td>9.773010e+00</td>\n",
       "      <td>1.598308e+01</td>\n",
       "      <td>2.757947e+01</td>\n",
       "      <td>6.314653e+02</td>\n",
       "    </tr>\n",
       "    <tr>\n",
       "      <th>Close</th>\n",
       "      <td>1481.0</td>\n",
       "      <td>6.023411e+01</td>\n",
       "      <td>1.231792e+02</td>\n",
       "      <td>0.099867</td>\n",
       "      <td>1.011914e+01</td>\n",
       "      <td>1.646322e+01</td>\n",
       "      <td>2.839345e+01</td>\n",
       "      <td>6.756841e+02</td>\n",
       "    </tr>\n",
       "    <tr>\n",
       "      <th>Adj Close</th>\n",
       "      <td>1481.0</td>\n",
       "      <td>6.023411e+01</td>\n",
       "      <td>1.231792e+02</td>\n",
       "      <td>0.099867</td>\n",
       "      <td>1.011914e+01</td>\n",
       "      <td>1.646322e+01</td>\n",
       "      <td>2.839345e+01</td>\n",
       "      <td>6.756841e+02</td>\n",
       "    </tr>\n",
       "    <tr>\n",
       "      <th>Volume</th>\n",
       "      <td>1481.0</td>\n",
       "      <td>6.566034e+08</td>\n",
       "      <td>1.473544e+09</td>\n",
       "      <td>9284.000000</td>\n",
       "      <td>5.354030e+07</td>\n",
       "      <td>2.029506e+08</td>\n",
       "      <td>4.041409e+08</td>\n",
       "      <td>1.798295e+10</td>\n",
       "    </tr>\n",
       "  </tbody>\n",
       "</table>\n",
       "</div>"
      ],
      "text/plain": [
       "            count          mean           std          min           25%  \\\n",
       "Open       1481.0  5.995044e+01  1.228150e+02     0.099721  1.012630e+01   \n",
       "High       1481.0  6.292519e+01  1.293032e+02     0.101211  1.044790e+01   \n",
       "Low        1481.0  5.692217e+01  1.160446e+02     0.096109  9.773010e+00   \n",
       "Close      1481.0  6.023411e+01  1.231792e+02     0.099867  1.011914e+01   \n",
       "Adj Close  1481.0  6.023411e+01  1.231792e+02     0.099867  1.011914e+01   \n",
       "Volume     1481.0  6.566034e+08  1.473544e+09  9284.000000  5.354030e+07   \n",
       "\n",
       "                    50%           75%           max  \n",
       "Open       1.644724e+01  2.837728e+01  6.763159e+02  \n",
       "High       1.686238e+01  2.905650e+01  6.909319e+02  \n",
       "Low        1.598308e+01  2.757947e+01  6.314653e+02  \n",
       "Close      1.646322e+01  2.839345e+01  6.756841e+02  \n",
       "Adj Close  1.646322e+01  2.839345e+01  6.756841e+02  \n",
       "Volume     2.029506e+08  4.041409e+08  1.798295e+10  "
      ]
     },
     "execution_count": 7,
     "metadata": {},
     "output_type": "execute_result"
    }
   ],
   "source": [
    "df.describe().T"
   ]
  },
  {
   "cell_type": "code",
   "execution_count": 8,
   "id": "a58b8ddf",
   "metadata": {},
   "outputs": [
    {
     "data": {
      "text/plain": [
       "690.931946"
      ]
     },
     "execution_count": 8,
     "metadata": {},
     "output_type": "execute_result"
    }
   ],
   "source": [
    "df.High.max()"
   ]
  },
  {
   "cell_type": "code",
   "execution_count": 9,
   "id": "6c23a125",
   "metadata": {},
   "outputs": [
    {
     "data": {
      "text/plain": [
       "0.096109"
      ]
     },
     "execution_count": 9,
     "metadata": {},
     "output_type": "execute_result"
    }
   ],
   "source": [
    "df.Low.min()"
   ]
  },
  {
   "cell_type": "markdown",
   "id": "announced-payroll",
   "metadata": {},
   "source": [
    "## ¿Tiene nulos? ¿Cuántos? ¿En qué columnas? Haz algo con ellos 🙃"
   ]
  },
  {
   "cell_type": "code",
   "execution_count": 10,
   "id": "specialized-cylinder",
   "metadata": {},
   "outputs": [
    {
     "data": {
      "text/html": [
       "<div>\n",
       "<style scoped>\n",
       "    .dataframe tbody tr th:only-of-type {\n",
       "        vertical-align: middle;\n",
       "    }\n",
       "\n",
       "    .dataframe tbody tr th {\n",
       "        vertical-align: top;\n",
       "    }\n",
       "\n",
       "    .dataframe thead th {\n",
       "        text-align: right;\n",
       "    }\n",
       "</style>\n",
       "<table border=\"1\" class=\"dataframe\">\n",
       "  <thead>\n",
       "    <tr style=\"text-align: right;\">\n",
       "      <th></th>\n",
       "      <th>Date</th>\n",
       "      <th>Open</th>\n",
       "      <th>High</th>\n",
       "      <th>Low</th>\n",
       "      <th>Close</th>\n",
       "      <th>Adj Close</th>\n",
       "      <th>Volume</th>\n",
       "    </tr>\n",
       "  </thead>\n",
       "  <tbody>\n",
       "    <tr>\n",
       "      <th>0</th>\n",
       "      <td>False</td>\n",
       "      <td>False</td>\n",
       "      <td>False</td>\n",
       "      <td>False</td>\n",
       "      <td>False</td>\n",
       "      <td>False</td>\n",
       "      <td>False</td>\n",
       "    </tr>\n",
       "    <tr>\n",
       "      <th>1</th>\n",
       "      <td>False</td>\n",
       "      <td>False</td>\n",
       "      <td>False</td>\n",
       "      <td>False</td>\n",
       "      <td>False</td>\n",
       "      <td>False</td>\n",
       "      <td>False</td>\n",
       "    </tr>\n",
       "    <tr>\n",
       "      <th>2</th>\n",
       "      <td>False</td>\n",
       "      <td>False</td>\n",
       "      <td>False</td>\n",
       "      <td>False</td>\n",
       "      <td>False</td>\n",
       "      <td>False</td>\n",
       "      <td>False</td>\n",
       "    </tr>\n",
       "    <tr>\n",
       "      <th>3</th>\n",
       "      <td>False</td>\n",
       "      <td>False</td>\n",
       "      <td>False</td>\n",
       "      <td>False</td>\n",
       "      <td>False</td>\n",
       "      <td>False</td>\n",
       "      <td>False</td>\n",
       "    </tr>\n",
       "    <tr>\n",
       "      <th>4</th>\n",
       "      <td>False</td>\n",
       "      <td>False</td>\n",
       "      <td>False</td>\n",
       "      <td>False</td>\n",
       "      <td>False</td>\n",
       "      <td>False</td>\n",
       "      <td>False</td>\n",
       "    </tr>\n",
       "  </tbody>\n",
       "</table>\n",
       "</div>"
      ],
      "text/plain": [
       "    Date   Open   High    Low  Close  Adj Close  Volume\n",
       "0  False  False  False  False  False      False   False\n",
       "1  False  False  False  False  False      False   False\n",
       "2  False  False  False  False  False      False   False\n",
       "3  False  False  False  False  False      False   False\n",
       "4  False  False  False  False  False      False   False"
      ]
     },
     "execution_count": 10,
     "metadata": {},
     "output_type": "execute_result"
    }
   ],
   "source": [
    "df.isna().head()"
   ]
  },
  {
   "cell_type": "code",
   "execution_count": 11,
   "id": "865a01f3",
   "metadata": {},
   "outputs": [
    {
     "data": {
      "text/plain": [
       "Date         1485\n",
       "Open         1485\n",
       "High         1485\n",
       "Low          1485\n",
       "Close        1485\n",
       "Adj Close    1485\n",
       "Volume       1485\n",
       "dtype: int64"
      ]
     },
     "execution_count": 11,
     "metadata": {},
     "output_type": "execute_result"
    }
   ],
   "source": [
    "df.isna().count()"
   ]
  },
  {
   "cell_type": "code",
   "execution_count": 12,
   "id": "a918c02f",
   "metadata": {},
   "outputs": [
    {
     "name": "stdout",
     "output_type": "stream",
     "text": [
      "<class 'pandas.core.frame.DataFrame'>\n",
      "RangeIndex: 1485 entries, 0 to 1484\n",
      "Data columns (total 7 columns):\n",
      " #   Column     Non-Null Count  Dtype  \n",
      "---  ------     --------------  -----  \n",
      " 0   Date       1485 non-null   object \n",
      " 1   Open       1481 non-null   float64\n",
      " 2   High       1481 non-null   float64\n",
      " 3   Low        1481 non-null   float64\n",
      " 4   Close      1481 non-null   float64\n",
      " 5   Adj Close  1481 non-null   float64\n",
      " 6   Volume     1481 non-null   float64\n",
      "dtypes: float64(6), object(1)\n",
      "memory usage: 81.3+ KB\n"
     ]
    }
   ],
   "source": [
    "df.info()"
   ]
  },
  {
   "cell_type": "markdown",
   "id": "square-words",
   "metadata": {},
   "source": [
    "## Borra algunas filas"
   ]
  },
  {
   "cell_type": "code",
   "execution_count": 13,
   "id": "cba96823",
   "metadata": {},
   "outputs": [
    {
     "data": {
      "text/html": [
       "<div>\n",
       "<style scoped>\n",
       "    .dataframe tbody tr th:only-of-type {\n",
       "        vertical-align: middle;\n",
       "    }\n",
       "\n",
       "    .dataframe tbody tr th {\n",
       "        vertical-align: top;\n",
       "    }\n",
       "\n",
       "    .dataframe thead th {\n",
       "        text-align: right;\n",
       "    }\n",
       "</style>\n",
       "<table border=\"1\" class=\"dataframe\">\n",
       "  <thead>\n",
       "    <tr style=\"text-align: right;\">\n",
       "      <th></th>\n",
       "      <th>Date</th>\n",
       "      <th>Open</th>\n",
       "      <th>High</th>\n",
       "      <th>Low</th>\n",
       "      <th>Close</th>\n",
       "      <th>Adj Close</th>\n",
       "      <th>Volume</th>\n",
       "    </tr>\n",
       "  </thead>\n",
       "  <tbody>\n",
       "    <tr>\n",
       "      <th>3</th>\n",
       "      <td>2017-07-28</td>\n",
       "      <td>0.107632</td>\n",
       "      <td>0.109019</td>\n",
       "      <td>0.101473</td>\n",
       "      <td>0.104067</td>\n",
       "      <td>0.104067</td>\n",
       "      <td>3.425680e+05</td>\n",
       "    </tr>\n",
       "    <tr>\n",
       "      <th>4</th>\n",
       "      <td>2017-07-29</td>\n",
       "      <td>0.104782</td>\n",
       "      <td>0.111264</td>\n",
       "      <td>0.101108</td>\n",
       "      <td>0.107811</td>\n",
       "      <td>0.107811</td>\n",
       "      <td>3.402180e+05</td>\n",
       "    </tr>\n",
       "    <tr>\n",
       "      <th>5</th>\n",
       "      <td>2017-07-30</td>\n",
       "      <td>0.107935</td>\n",
       "      <td>0.108138</td>\n",
       "      <td>0.103162</td>\n",
       "      <td>0.106414</td>\n",
       "      <td>0.106414</td>\n",
       "      <td>2.242610e+05</td>\n",
       "    </tr>\n",
       "    <tr>\n",
       "      <th>6</th>\n",
       "      <td>2017-07-31</td>\n",
       "      <td>0.106828</td>\n",
       "      <td>0.108349</td>\n",
       "      <td>0.101600</td>\n",
       "      <td>0.104250</td>\n",
       "      <td>0.104250</td>\n",
       "      <td>2.403090e+05</td>\n",
       "    </tr>\n",
       "    <tr>\n",
       "      <th>7</th>\n",
       "      <td>2017-08-01</td>\n",
       "      <td>0.104595</td>\n",
       "      <td>0.106266</td>\n",
       "      <td>0.096109</td>\n",
       "      <td>0.099867</td>\n",
       "      <td>0.099867</td>\n",
       "      <td>3.004130e+05</td>\n",
       "    </tr>\n",
       "    <tr>\n",
       "      <th>...</th>\n",
       "      <td>...</td>\n",
       "      <td>...</td>\n",
       "      <td>...</td>\n",
       "      <td>...</td>\n",
       "      <td>...</td>\n",
       "      <td>...</td>\n",
       "      <td>...</td>\n",
       "    </tr>\n",
       "    <tr>\n",
       "      <th>1480</th>\n",
       "      <td>2021-08-13</td>\n",
       "      <td>386.044067</td>\n",
       "      <td>411.170532</td>\n",
       "      <td>383.216766</td>\n",
       "      <td>410.944885</td>\n",
       "      <td>410.944885</td>\n",
       "      <td>1.724230e+09</td>\n",
       "    </tr>\n",
       "    <tr>\n",
       "      <th>1481</th>\n",
       "      <td>2021-08-14</td>\n",
       "      <td>410.783539</td>\n",
       "      <td>418.921265</td>\n",
       "      <td>400.752045</td>\n",
       "      <td>409.034485</td>\n",
       "      <td>409.034485</td>\n",
       "      <td>2.023364e+09</td>\n",
       "    </tr>\n",
       "    <tr>\n",
       "      <th>1482</th>\n",
       "      <td>2021-08-15</td>\n",
       "      <td>408.982208</td>\n",
       "      <td>414.931000</td>\n",
       "      <td>396.865204</td>\n",
       "      <td>414.595032</td>\n",
       "      <td>414.595032</td>\n",
       "      <td>1.826134e+09</td>\n",
       "    </tr>\n",
       "    <tr>\n",
       "      <th>1483</th>\n",
       "      <td>2021-08-16</td>\n",
       "      <td>414.357666</td>\n",
       "      <td>436.618408</td>\n",
       "      <td>411.123260</td>\n",
       "      <td>417.470856</td>\n",
       "      <td>417.470856</td>\n",
       "      <td>2.620571e+09</td>\n",
       "    </tr>\n",
       "    <tr>\n",
       "      <th>1484</th>\n",
       "      <td>2021-08-17</td>\n",
       "      <td>416.598572</td>\n",
       "      <td>429.128632</td>\n",
       "      <td>410.275574</td>\n",
       "      <td>422.220764</td>\n",
       "      <td>422.220764</td>\n",
       "      <td>2.716975e+09</td>\n",
       "    </tr>\n",
       "  </tbody>\n",
       "</table>\n",
       "<p>1482 rows × 7 columns</p>\n",
       "</div>"
      ],
      "text/plain": [
       "            Date        Open        High         Low       Close   Adj Close  \\\n",
       "3     2017-07-28    0.107632    0.109019    0.101473    0.104067    0.104067   \n",
       "4     2017-07-29    0.104782    0.111264    0.101108    0.107811    0.107811   \n",
       "5     2017-07-30    0.107935    0.108138    0.103162    0.106414    0.106414   \n",
       "6     2017-07-31    0.106828    0.108349    0.101600    0.104250    0.104250   \n",
       "7     2017-08-01    0.104595    0.106266    0.096109    0.099867    0.099867   \n",
       "...          ...         ...         ...         ...         ...         ...   \n",
       "1480  2021-08-13  386.044067  411.170532  383.216766  410.944885  410.944885   \n",
       "1481  2021-08-14  410.783539  418.921265  400.752045  409.034485  409.034485   \n",
       "1482  2021-08-15  408.982208  414.931000  396.865204  414.595032  414.595032   \n",
       "1483  2021-08-16  414.357666  436.618408  411.123260  417.470856  417.470856   \n",
       "1484  2021-08-17  416.598572  429.128632  410.275574  422.220764  422.220764   \n",
       "\n",
       "            Volume  \n",
       "3     3.425680e+05  \n",
       "4     3.402180e+05  \n",
       "5     2.242610e+05  \n",
       "6     2.403090e+05  \n",
       "7     3.004130e+05  \n",
       "...            ...  \n",
       "1480  1.724230e+09  \n",
       "1481  2.023364e+09  \n",
       "1482  1.826134e+09  \n",
       "1483  2.620571e+09  \n",
       "1484  2.716975e+09  \n",
       "\n",
       "[1482 rows x 7 columns]"
      ]
     },
     "execution_count": 13,
     "metadata": {},
     "output_type": "execute_result"
    }
   ],
   "source": [
    "df.drop([0,1,2], axis=0, inplace=True)\n",
    "df"
   ]
  },
  {
   "cell_type": "markdown",
   "id": "endless-assurance",
   "metadata": {},
   "source": [
    "## Borra algunas columnas"
   ]
  },
  {
   "cell_type": "code",
   "execution_count": 14,
   "id": "robust-domain",
   "metadata": {},
   "outputs": [
    {
     "data": {
      "text/html": [
       "<div>\n",
       "<style scoped>\n",
       "    .dataframe tbody tr th:only-of-type {\n",
       "        vertical-align: middle;\n",
       "    }\n",
       "\n",
       "    .dataframe tbody tr th {\n",
       "        vertical-align: top;\n",
       "    }\n",
       "\n",
       "    .dataframe thead th {\n",
       "        text-align: right;\n",
       "    }\n",
       "</style>\n",
       "<table border=\"1\" class=\"dataframe\">\n",
       "  <thead>\n",
       "    <tr style=\"text-align: right;\">\n",
       "      <th></th>\n",
       "      <th>Date</th>\n",
       "      <th>Open</th>\n",
       "      <th>High</th>\n",
       "      <th>Low</th>\n",
       "      <th>Close</th>\n",
       "      <th>Adj Close</th>\n",
       "    </tr>\n",
       "  </thead>\n",
       "  <tbody>\n",
       "    <tr>\n",
       "      <th>3</th>\n",
       "      <td>2017-07-28</td>\n",
       "      <td>0.107632</td>\n",
       "      <td>0.109019</td>\n",
       "      <td>0.101473</td>\n",
       "      <td>0.104067</td>\n",
       "      <td>0.104067</td>\n",
       "    </tr>\n",
       "    <tr>\n",
       "      <th>4</th>\n",
       "      <td>2017-07-29</td>\n",
       "      <td>0.104782</td>\n",
       "      <td>0.111264</td>\n",
       "      <td>0.101108</td>\n",
       "      <td>0.107811</td>\n",
       "      <td>0.107811</td>\n",
       "    </tr>\n",
       "    <tr>\n",
       "      <th>5</th>\n",
       "      <td>2017-07-30</td>\n",
       "      <td>0.107935</td>\n",
       "      <td>0.108138</td>\n",
       "      <td>0.103162</td>\n",
       "      <td>0.106414</td>\n",
       "      <td>0.106414</td>\n",
       "    </tr>\n",
       "    <tr>\n",
       "      <th>6</th>\n",
       "      <td>2017-07-31</td>\n",
       "      <td>0.106828</td>\n",
       "      <td>0.108349</td>\n",
       "      <td>0.101600</td>\n",
       "      <td>0.104250</td>\n",
       "      <td>0.104250</td>\n",
       "    </tr>\n",
       "    <tr>\n",
       "      <th>7</th>\n",
       "      <td>2017-08-01</td>\n",
       "      <td>0.104595</td>\n",
       "      <td>0.106266</td>\n",
       "      <td>0.096109</td>\n",
       "      <td>0.099867</td>\n",
       "      <td>0.099867</td>\n",
       "    </tr>\n",
       "    <tr>\n",
       "      <th>...</th>\n",
       "      <td>...</td>\n",
       "      <td>...</td>\n",
       "      <td>...</td>\n",
       "      <td>...</td>\n",
       "      <td>...</td>\n",
       "      <td>...</td>\n",
       "    </tr>\n",
       "    <tr>\n",
       "      <th>1480</th>\n",
       "      <td>2021-08-13</td>\n",
       "      <td>386.044067</td>\n",
       "      <td>411.170532</td>\n",
       "      <td>383.216766</td>\n",
       "      <td>410.944885</td>\n",
       "      <td>410.944885</td>\n",
       "    </tr>\n",
       "    <tr>\n",
       "      <th>1481</th>\n",
       "      <td>2021-08-14</td>\n",
       "      <td>410.783539</td>\n",
       "      <td>418.921265</td>\n",
       "      <td>400.752045</td>\n",
       "      <td>409.034485</td>\n",
       "      <td>409.034485</td>\n",
       "    </tr>\n",
       "    <tr>\n",
       "      <th>1482</th>\n",
       "      <td>2021-08-15</td>\n",
       "      <td>408.982208</td>\n",
       "      <td>414.931000</td>\n",
       "      <td>396.865204</td>\n",
       "      <td>414.595032</td>\n",
       "      <td>414.595032</td>\n",
       "    </tr>\n",
       "    <tr>\n",
       "      <th>1483</th>\n",
       "      <td>2021-08-16</td>\n",
       "      <td>414.357666</td>\n",
       "      <td>436.618408</td>\n",
       "      <td>411.123260</td>\n",
       "      <td>417.470856</td>\n",
       "      <td>417.470856</td>\n",
       "    </tr>\n",
       "    <tr>\n",
       "      <th>1484</th>\n",
       "      <td>2021-08-17</td>\n",
       "      <td>416.598572</td>\n",
       "      <td>429.128632</td>\n",
       "      <td>410.275574</td>\n",
       "      <td>422.220764</td>\n",
       "      <td>422.220764</td>\n",
       "    </tr>\n",
       "  </tbody>\n",
       "</table>\n",
       "<p>1482 rows × 6 columns</p>\n",
       "</div>"
      ],
      "text/plain": [
       "            Date        Open        High         Low       Close   Adj Close\n",
       "3     2017-07-28    0.107632    0.109019    0.101473    0.104067    0.104067\n",
       "4     2017-07-29    0.104782    0.111264    0.101108    0.107811    0.107811\n",
       "5     2017-07-30    0.107935    0.108138    0.103162    0.106414    0.106414\n",
       "6     2017-07-31    0.106828    0.108349    0.101600    0.104250    0.104250\n",
       "7     2017-08-01    0.104595    0.106266    0.096109    0.099867    0.099867\n",
       "...          ...         ...         ...         ...         ...         ...\n",
       "1480  2021-08-13  386.044067  411.170532  383.216766  410.944885  410.944885\n",
       "1481  2021-08-14  410.783539  418.921265  400.752045  409.034485  409.034485\n",
       "1482  2021-08-15  408.982208  414.931000  396.865204  414.595032  414.595032\n",
       "1483  2021-08-16  414.357666  436.618408  411.123260  417.470856  417.470856\n",
       "1484  2021-08-17  416.598572  429.128632  410.275574  422.220764  422.220764\n",
       "\n",
       "[1482 rows x 6 columns]"
      ]
     },
     "execution_count": 14,
     "metadata": {},
     "output_type": "execute_result"
    }
   ],
   "source": [
    "df.drop(['Volume'], axis=1, inplace=True)\n",
    "df"
   ]
  },
  {
   "cell_type": "markdown",
   "id": "pleasant-phoenix",
   "metadata": {},
   "source": [
    "## Escribe una función y aplícala a alguna de las columnas"
   ]
  },
  {
   "cell_type": "code",
   "execution_count": null,
   "id": "typical-rolling",
   "metadata": {},
   "outputs": [],
   "source": []
  },
  {
   "cell_type": "markdown",
   "id": "cardiovascular-plumbing",
   "metadata": {},
   "source": [
    "## Muestra los valores únicos de algunas columnas"
   ]
  },
  {
   "cell_type": "code",
   "execution_count": 17,
   "id": "aggressive-companion",
   "metadata": {},
   "outputs": [
    {
     "data": {
      "text/plain": [
       "array([1.07632000e-01, 1.04782000e-01, 1.07935000e-01, ...,\n",
       "       4.08982208e+02, 4.14357666e+02, 4.16598572e+02])"
      ]
     },
     "metadata": {},
     "output_type": "display_data"
    }
   ],
   "source": [
    "display(df.Open.unique())"
   ]
  },
  {
   "cell_type": "markdown",
   "id": "suburban-holocaust",
   "metadata": {},
   "source": [
    "## Filtra los datos por algunos de los valores que hay dentro de alguna columna"
   ]
  },
  {
   "cell_type": "code",
   "execution_count": null,
   "id": "homeless-saver",
   "metadata": {},
   "outputs": [],
   "source": []
  },
  {
   "cell_type": "markdown",
   "id": "phantom-strengthening",
   "metadata": {},
   "source": [
    "## Repite el paso anterior con condicionales"
   ]
  },
  {
   "cell_type": "code",
   "execution_count": null,
   "id": "chief-reggae",
   "metadata": {},
   "outputs": [],
   "source": []
  },
  {
   "cell_type": "markdown",
   "id": "unable-politics",
   "metadata": {},
   "source": [
    "## Elige una columna y ponla como index"
   ]
  },
  {
   "cell_type": "code",
   "execution_count": null,
   "id": "insured-grounds",
   "metadata": {},
   "outputs": [],
   "source": []
  },
  {
   "cell_type": "markdown",
   "id": "colonial-destruction",
   "metadata": {},
   "source": [
    "## Resetea el index"
   ]
  },
  {
   "cell_type": "code",
   "execution_count": null,
   "id": "bibliographic-semiconductor",
   "metadata": {},
   "outputs": [],
   "source": []
  },
  {
   "cell_type": "markdown",
   "id": "descending-material",
   "metadata": {},
   "source": [
    "## Divídelo en dos partes aleatorias y vuélvelo a juntar ¿te atreves con filas o columnas? ¡¡prueba!!"
   ]
  },
  {
   "cell_type": "code",
   "execution_count": null,
   "id": "advised-investigation",
   "metadata": {},
   "outputs": [],
   "source": []
  }
 ],
 "metadata": {
  "kernelspec": {
   "display_name": "Python 3 (ipykernel)",
   "language": "python",
   "name": "python3"
  },
  "language_info": {
   "codemirror_mode": {
    "name": "ipython",
    "version": 3
   },
   "file_extension": ".py",
   "mimetype": "text/x-python",
   "name": "python",
   "nbconvert_exporter": "python",
   "pygments_lexer": "ipython3",
   "version": "3.8.10"
  },
  "toc": {
   "base_numbering": 1,
   "nav_menu": {},
   "number_sections": true,
   "sideBar": true,
   "skip_h1_title": true,
   "title_cell": "Table of Contents",
   "title_sidebar": "Contents",
   "toc_cell": true,
   "toc_position": {
    "height": "calc(100% - 180px)",
    "left": "10px",
    "top": "150px",
    "width": "288px"
   },
   "toc_section_display": true,
   "toc_window_display": true
  }
 },
 "nbformat": 4,
 "nbformat_minor": 5
}
