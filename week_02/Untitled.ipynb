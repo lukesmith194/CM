{
 "cells": [
  {
   "cell_type": "code",
   "execution_count": null,
   "id": "9083d7f3",
   "metadata": {},
   "outputs": [],
   "source": [
    "pesos = 0.3, 0.2, 0.5"
   ]
  },
  {
   "cell_type": "code",
   "execution_count": null,
   "id": "f0417482",
   "metadata": {},
   "outputs": [],
   "source": [
    "\n",
    "kanto = [73, 67, 43]\n",
    "johto = [91, 88, 64]\n",
    "hoenn = [87, 134, 58]\n",
    "sinnoh = [102, 43, 37]\n",
    "unova = [69, 96, 70]"
   ]
  },
  {
   "cell_type": "code",
   "execution_count": null,
   "id": "827c6f41",
   "metadata": {},
   "outputs": [],
   "source": [
    "for i, j in zip (pesos,region):\n",
    "    i*j"
   ]
  }
 ],
 "metadata": {
  "kernelspec": {
   "display_name": "Python 3 (ipykernel)",
   "language": "python",
   "name": "python3"
  },
  "language_info": {
   "codemirror_mode": {
    "name": "ipython",
    "version": 3
   },
   "file_extension": ".py",
   "mimetype": "text/x-python",
   "name": "python",
   "nbconvert_exporter": "python",
   "pygments_lexer": "ipython3",
   "version": "3.8.10"
  }
 },
 "nbformat": 4,
 "nbformat_minor": 5
}
