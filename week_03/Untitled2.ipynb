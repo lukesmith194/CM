{
 "cells": [
  {
   "cell_type": "code",
   "execution_count": 21,
   "id": "ebc3f2a6",
   "metadata": {},
   "outputs": [
    {
     "name": "stdout",
     "output_type": "stream",
     "text": [
      "2\n"
     ]
    }
   ],
   "source": [
    "recipe = {\"flour\": 500, \"sugar\": 200, \"eggs\": 1}\n",
    "available = {\"flour\": 1200, \"sugar\": 1200, \"eggs\": 5, \"milk\": 200}\n",
    "d3 = dict()\n",
    "\n",
    "for k, v in recipe.items():\n",
    "    for k2, v2 in available.items():\n",
    "        if k == k2:\n",
    "            d3[v]= v2 // v\n",
    "            min_value = min(d3.values())\n",
    "            \n",
    "print (min_value)"
   ]
  }
 ],
 "metadata": {
  "kernelspec": {
   "display_name": "Python 3 (ipykernel)",
   "language": "python",
   "name": "python3"
  },
  "language_info": {
   "codemirror_mode": {
    "name": "ipython",
    "version": 3
   },
   "file_extension": ".py",
   "mimetype": "text/x-python",
   "name": "python",
   "nbconvert_exporter": "python",
   "pygments_lexer": "ipython3",
   "version": "3.8.10"
  }
 },
 "nbformat": 4,
 "nbformat_minor": 5
}
