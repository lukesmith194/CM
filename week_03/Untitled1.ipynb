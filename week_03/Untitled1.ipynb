{
 "cells": [
  {
   "cell_type": "code",
   "execution_count": 2,
   "id": "0b26b4c9",
   "metadata": {},
   "outputs": [],
   "source": [
    "import requests \n",
    "import json\n",
    "import os\n",
    "from dotenv import load_dotenv\n",
    "import pandas as pd\n",
    "from pandas import json_normalize\n",
    "import time"
   ]
  },
  {
   "cell_type": "code",
   "execution_count": 3,
   "id": "8aeaa21f",
   "metadata": {},
   "outputs": [
    {
     "data": {
      "text/plain": [
       "{'error': False,\n",
       " 'amount': 3,\n",
       " 'jokes': [{'category': 'Dark',\n",
       "   'type': 'twopart',\n",
       "   'setup': 'What do dermatologists and the KKK have in common?',\n",
       "   'delivery': 'They both remove blackheads.',\n",
       "   'flags': {'nsfw': False,\n",
       "    'religious': False,\n",
       "    'political': False,\n",
       "    'racist': True,\n",
       "    'sexist': False,\n",
       "    'explicit': False},\n",
       "   'id': 112,\n",
       "   'safe': False,\n",
       "   'lang': 'en'},\n",
       "  {'category': 'Dark',\n",
       "   'type': 'twopart',\n",
       "   'setup': 'What do you call a kid with no arms and an eyepatch?',\n",
       "   'delivery': 'Names.',\n",
       "   'flags': {'nsfw': False,\n",
       "    'religious': False,\n",
       "    'political': False,\n",
       "    'racist': False,\n",
       "    'sexist': False,\n",
       "    'explicit': False},\n",
       "   'id': 119,\n",
       "   'safe': False,\n",
       "   'lang': 'en'},\n",
       "  {'category': 'Dark',\n",
       "   'type': 'single',\n",
       "   'joke': 'Dark humor is like food, not everyone gets it.',\n",
       "   'flags': {'nsfw': False,\n",
       "    'religious': False,\n",
       "    'political': False,\n",
       "    'racist': True,\n",
       "    'sexist': False,\n",
       "    'explicit': True},\n",
       "   'id': 162,\n",
       "   'safe': False,\n",
       "   'lang': 'en'}]}"
      ]
     },
     "execution_count": 3,
     "metadata": {},
     "output_type": "execute_result"
    }
   ],
   "source": [
    "url_random_joke = \"https://v2.jokeapi.dev/joke/dark?amount=3\"\n",
    "request_jk = requests.get(url_random_joke).json()\n",
    "request_jk"
   ]
  },
  {
   "cell_type": "code",
   "execution_count": null,
   "id": "c4bc783a",
   "metadata": {},
   "outputs": [],
   "source": [
    ">>> d1 = { 'a':500 , 'b':200 , 'c':1 }\n",
    ">>> d2 = { 'a':0 , 'c':2 , 'b':5}\n",
    ">>> d3 = dict((k, float(d2[k]) / d1[k]) for k in d2)\n",
    ">>> d3\n",
    "{'a': 0.0, 'c': 1.0, 'b': 0.5}"
   ]
  }
 ],
 "metadata": {
  "kernelspec": {
   "display_name": "Python 3 (ipykernel)",
   "language": "python",
   "name": "python3"
  },
  "language_info": {
   "codemirror_mode": {
    "name": "ipython",
    "version": 3
   },
   "file_extension": ".py",
   "mimetype": "text/x-python",
   "name": "python",
   "nbconvert_exporter": "python",
   "pygments_lexer": "ipython3",
   "version": "3.8.10"
  }
 },
 "nbformat": 4,
 "nbformat_minor": 5
}
