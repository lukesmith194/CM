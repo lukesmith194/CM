{
 "cells": [
  {
   "cell_type": "code",
   "execution_count": 3,
   "id": "032d27c4",
   "metadata": {},
   "outputs": [
    {
     "ename": "NameError",
     "evalue": "name 'new_list' is not defined",
     "output_type": "error",
     "traceback": [
      "\u001b[0;31m---------------------------------------------------------------------------\u001b[0m",
      "\u001b[0;31mNameError\u001b[0m                                 Traceback (most recent call last)",
      "\u001b[0;32m/tmp/ipykernel_121/699330056.py\u001b[0m in \u001b[0;36m<module>\u001b[0;34m\u001b[0m\n\u001b[1;32m      9\u001b[0m         \u001b[0;32mif\u001b[0m \u001b[0mi\u001b[0m \u001b[0;34m==\u001b[0m \u001b[0meyes\u001b[0m\u001b[0;34m:\u001b[0m\u001b[0;34m\u001b[0m\u001b[0;34m\u001b[0m\u001b[0m\n\u001b[1;32m     10\u001b[0m             \u001b[0mnew_list\u001b[0m\u001b[0;34m.\u001b[0m\u001b[0mappend\u001b[0m\u001b[0;34m(\u001b[0m\u001b[0mi\u001b[0m\u001b[0;34m)\u001b[0m\u001b[0;34m\u001b[0m\u001b[0;34m\u001b[0m\u001b[0m\n\u001b[0;32m---> 11\u001b[0;31m \u001b[0mprint\u001b[0m\u001b[0;34m(\u001b[0m\u001b[0mnew_list\u001b[0m\u001b[0;34m)\u001b[0m\u001b[0;34m\u001b[0m\u001b[0;34m\u001b[0m\u001b[0m\n\u001b[0m",
      "\u001b[0;31mNameError\u001b[0m: name 'new_list' is not defined"
     ]
    }
   ],
   "source": [
    "def count_smileys(arr):\n",
    "    eyes = [\":\",\";\"]\n",
    "    nose = [\"-\", \"~\"]\n",
    "    mouth =[ \")\", \"D\"]\n",
    "    \n",
    "    count = 0\n",
    "    \n",
    "    for i in arr:\n",
    "        if i == eyes:\n",
    "            count+=1\n",
    "        if i == nose:\n",
    "            count+=1\n",
    "        if i == mouth"
   ]
  },
  {
   "cell_type": "code",
   "execution_count": 4,
   "id": "0036e4d2",
   "metadata": {},
   "outputs": [],
   "source": [
    "valid_faces = [\":)\", \":D\", \";-D\", \":~)\"]\n",
    "\n",
    "def count_smileys(arr):\n",
    "    valid_faces = [\":)\", \":D\", \";-D\", \":~)\"]\n",
    "    count= 0\n",
    "\n",
    "    for i in arr:\n",
    "        if i == valid_faces:\n",
    "            count += 1\n",
    "        return (arr,count)\n",
    "            \n"
   ]
  }
 ],
 "metadata": {
  "kernelspec": {
   "display_name": "Python 3 (ipykernel)",
   "language": "python",
   "name": "python3"
  },
  "language_info": {
   "codemirror_mode": {
    "name": "ipython",
    "version": 3
   },
   "file_extension": ".py",
   "mimetype": "text/x-python",
   "name": "python",
   "nbconvert_exporter": "python",
   "pygments_lexer": "ipython3",
   "version": "3.8.10"
  }
 },
 "nbformat": 4,
 "nbformat_minor": 5
}
