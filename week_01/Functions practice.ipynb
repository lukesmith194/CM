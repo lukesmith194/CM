{
 "cells": [
  {
   "cell_type": "code",
   "execution_count": 9,
   "id": "2be77107",
   "metadata": {},
   "outputs": [
    {
     "name": "stdout",
     "output_type": "stream",
     "text": [
      "['04', '52']\n"
     ]
    },
    {
     "data": {
      "text/plain": [
       "'04'"
      ]
     },
     "execution_count": 9,
     "metadata": {},
     "output_type": "execute_result"
    }
   ],
   "source": [
    "t = \"04:52\"\n",
    "\n",
    "components = t.split(\":\")\n",
    "\n",
    "print(components)\n",
    "\n",
    "min_str, sec_str = t.split(\":\")\n",
    "\n",
    "print(min)"
   ]
  },
  {
   "cell_type": "code",
   "execution_count": 11,
   "id": "f3145f40",
   "metadata": {},
   "outputs": [
    {
     "data": {
      "text/plain": [
       "292"
      ]
     },
     "execution_count": 11,
     "metadata": {},
     "output_type": "execute_result"
    }
   ],
   "source": [
    "def get_total_seconds (time_string):\n",
    "    min_str, sec_str = t.split(\":\")\n",
    "    secs = int(min_str)* 60 + int(sec_str)\n",
    "    return secs\n",
    "\n",
    "get_total_seconds(\"08:26\")"
   ]
  },
  {
   "cell_type": "code",
   "execution_count": 23,
   "id": "ef446f32",
   "metadata": {},
   "outputs": [
    {
     "data": {
      "text/plain": [
       "'PACO!!'"
      ]
     },
     "execution_count": 23,
     "metadata": {},
     "output_type": "execute_result"
    }
   ],
   "source": [
    "\n",
    "\n",
    "\n",
    "def yell_sentence(str_sentence):\n",
    "    return str_sentence.upper() + \"!!\"\n",
    "\n",
    "\n",
    "yell_sentence(\"hola amigo\")\n",
    "yell_sentence(\"PACO\")\n",
    "\n",
    "\n",
    "    \n"
   ]
  },
  {
   "cell_type": "code",
   "execution_count": 29,
   "id": "052bde29",
   "metadata": {},
   "outputs": [
    {
     "data": {
      "text/plain": [
       "5"
      ]
     },
     "execution_count": 29,
     "metadata": {},
     "output_type": "execute_result"
    }
   ],
   "source": [
    "def suma_de_numero(x):\n",
    "    return x + 4\n",
    "\n",
    "suma_de_numero(1)\n",
    "\n"
   ]
  },
  {
   "cell_type": "code",
   "execution_count": 39,
   "id": "abf0ecca",
   "metadata": {},
   "outputs": [
    {
     "ename": "NameError",
     "evalue": "name 'LuKe' is not defined",
     "output_type": "error",
     "traceback": [
      "\u001b[0;31m---------------------------------------------------------------------------\u001b[0m",
      "\u001b[0;31mNameError\u001b[0m                                 Traceback (most recent call last)",
      "\u001b[0;32m/tmp/ipykernel_437/3844278614.py\u001b[0m in \u001b[0;36m<module>\u001b[0;34m\u001b[0m\n\u001b[1;32m      5\u001b[0m             \u001b[0mcount\u001b[0m \u001b[0;34m+=\u001b[0m \u001b[0;36m1\u001b[0m\u001b[0;34m\u001b[0m\u001b[0;34m\u001b[0m\u001b[0m\n\u001b[1;32m      6\u001b[0m \u001b[0;34m\u001b[0m\u001b[0m\n\u001b[0;32m----> 7\u001b[0;31m \u001b[0mcount_lower_case\u001b[0m\u001b[0;34m(\u001b[0m\u001b[0mLuKe\u001b[0m\u001b[0;34m)\u001b[0m\u001b[0;34m\u001b[0m\u001b[0;34m\u001b[0m\u001b[0m\n\u001b[0m",
      "\u001b[0;31mNameError\u001b[0m: name 'LuKe' is not defined"
     ]
    }
   ],
   "source": [
    "\n",
    "def count_lower_case(word):\n",
    "    \n",
    "    \"\"\"\n",
    "    counts how many lower cases are found in a str\n",
    "    \n",
    "    Args:\n",
    "        word= str\n",
    "    Returns:\n",
    "        num of lowercases\n",
    "    \"\"\"\n",
    "    \n",
    "    count = 0\n",
    "    for i in word:\n",
    "        if i.islower():\n",
    "            count += 1\n",
    "        \n",
    "count_lower_case(\"LuKe\")\n"
   ]
  },
  {
   "cell_type": "code",
   "execution_count": 43,
   "id": "1265984b",
   "metadata": {},
   "outputs": [
    {
     "data": {
      "text/plain": [
       "'pedro'"
      ]
     },
     "execution_count": 43,
     "metadata": {},
     "output_type": "execute_result"
    }
   ],
   "source": [
    "def return_longest_word(word1, word2):\n",
    "    if len(word1)>= len(word2):\n",
    "        return word1\n",
    "    else:\n",
    "        return word2\n",
    "    \n",
    "\n",
    "return_longest_word(\"luke\", \"pedro\")\n",
    "\n"
   ]
  },
  {
   "cell_type": "code",
   "execution_count": null,
   "id": "15802553",
   "metadata": {},
   "outputs": [],
   "source": [
    "def get_max_diff(a,b,c):\n",
    "    "
   ]
  },
  {
   "cell_type": "code",
   "execution_count": 50,
   "id": "069b8f82",
   "metadata": {},
   "outputs": [
    {
     "data": {
      "text/plain": [
       "True"
      ]
     },
     "execution_count": 50,
     "metadata": {},
     "output_type": "execute_result"
    }
   ],
   "source": [
    "def is_prime(n):\n",
    "    for i in range(2, n):\n",
    "        if n % i == 0:\n",
    "            return False\n",
    "    return True\n",
    "\n",
    "is_prime(75689)"
   ]
  }
 ],
 "metadata": {
  "kernelspec": {
   "display_name": "Python 3 (ipykernel)",
   "language": "python",
   "name": "python3"
  },
  "language_info": {
   "codemirror_mode": {
    "name": "ipython",
    "version": 3
   },
   "file_extension": ".py",
   "mimetype": "text/x-python",
   "name": "python",
   "nbconvert_exporter": "python",
   "pygments_lexer": "ipython3",
   "version": "3.8.10"
  }
 },
 "nbformat": 4,
 "nbformat_minor": 5
}
