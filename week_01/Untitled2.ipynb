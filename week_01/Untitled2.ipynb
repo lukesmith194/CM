{
 "cells": [
  {
   "cell_type": "code",
   "execution_count": null,
   "id": "9431cf49",
   "metadata": {},
   "outputs": [],
   "source": [
    "bob = (input(\"introduzca su edad \"))\n",
    "edad_disco = 21\n",
    "edad_legal = 18\n",
    "\n",
    "while (not bob.isnumeric()):\n",
    "    edad = input(\"Introduzca tu edad por favor (Debe ser un número): \")\n",
    "\n",
    "if bob > edad_disco:\n",
    "    print(\"puedes pasar puto, subimos de nivel!\")\n",
    "elif bob >= edad_legal and bob < edad_disco:\n",
    "    print(\"Aqui no bob, pero en la JPM si broski\")\n",
    "else:\n",
    "    print(\"vete pa tu puta casa\")\n"
   ]
  },
  {
   "cell_type": "code",
   "execution_count": 10,
   "id": "9670187c",
   "metadata": {},
   "outputs": [
    {
     "name": "stdout",
     "output_type": "stream",
     "text": [
      "introduzca el peso de tu huevo 99\n",
      "Caja xl\n"
     ]
    }
   ],
   "source": [
    "egg = float(input(\"introduzca el peso de tu huevo \"))\n",
    "caja_s = 55\n",
    "caja_m = 65\n",
    "caja_l = 75\n",
    "caja_xl = 85\n",
    "\n",
    "\n",
    "if egg <= caja_s:\n",
    "    print(\"es un huevo pequeño, va en la caja S\")\n",
    "elif egg > caja_s and egg <= caja_m:\n",
    "    print (\"Caja M\")\n",
    "elif egg > caja_m and egg <= caja_l:\n",
    "    print(\"Caja L\")\n",
    "elif egg > caja_l:\n",
    "    print(\"Caja xl\")\n"
   ]
  },
  {
   "cell_type": "code",
   "execution_count": null,
   "id": "12ef59bf",
   "metadata": {},
   "outputs": [],
   "source": []
  }
 ],
 "metadata": {
  "kernelspec": {
   "display_name": "Python 3 (ipykernel)",
   "language": "python",
   "name": "python3"
  },
  "language_info": {
   "codemirror_mode": {
    "name": "ipython",
    "version": 3
   },
   "file_extension": ".py",
   "mimetype": "text/x-python",
   "name": "python",
   "nbconvert_exporter": "python",
   "pygments_lexer": "ipython3",
   "version": "3.8.10"
  }
 },
 "nbformat": 4,
 "nbformat_minor": 5
}
